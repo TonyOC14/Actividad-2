{
  "nbformat": 4,
  "nbformat_minor": 0,
  "metadata": {
    "colab": {
      "provenance": [],
      "toc_visible": true,
      "authorship_tag": "ABX9TyNzrxOUF5EGxuI8yV6h9F2i",
      "include_colab_link": true
    },
    "kernelspec": {
      "name": "python3",
      "display_name": "Python 3"
    },
    "language_info": {
      "name": "python"
    }
  },
  "cells": [
    {
      "cell_type": "markdown",
      "metadata": {
        "id": "view-in-github",
        "colab_type": "text"
      },
      "source": [
        "<a href=\"https://colab.research.google.com/github/TonyOC14/Actividad-2/blob/main/TOC_A02_432.ipynb\" target=\"_parent\"><img src=\"https://colab.research.google.com/assets/colab-badge.svg\" alt=\"Open In Colab\"/></a>"
      ]
    },
    {
      "cell_type": "markdown",
      "source": [
        "NOTA: EJERCICIOS ( 1,2,3 y 4 ) PARA SER RESUELTOS USANDO EXCLUSIVAMENTE CONDICIONES SIMPLES"
      ],
      "metadata": {
        "id": "b21jPYWnBa3d"
      }
    },
    {
      "cell_type": "markdown",
      "source": [
        "1.- Programa en Python que lea 2 números enteros, usar una condición y analizar los dos números y desplegar cual de los números es el mayor. 1\n"
      ],
      "metadata": {
        "id": "gaJLIqr69fr_"
      }
    },
    {
      "cell_type": "code",
      "source": [
        "num1=float(input(\"Ingrese el primer numero \"))\n",
        "num2=float(input(\"Ingrese el segundo numero \"))\n",
        "if num1 > num2 :\n",
        "  print(f\"El numero mayor es: {num1}\")\n",
        "if num2 > num1 :\n",
        "    print(f\"El numero mayor es: {num2}\")"
      ],
      "metadata": {
        "colab": {
          "base_uri": "https://localhost:8080/"
        },
        "id": "zU5rumBg-PiL",
        "outputId": "f7b5d6f1-06c6-4f7e-9efc-c6d277169f36"
      },
      "execution_count": 2,
      "outputs": [
        {
          "output_type": "stream",
          "name": "stdout",
          "text": [
            "Ingrese el primer numero 6\n",
            "Ingrese el segundo numero 8\n",
            "El numero mayor es: 8.0\n"
          ]
        }
      ]
    },
    {
      "cell_type": "markdown",
      "source": [
        "2.- Programa en PythonAlgoritmo que lea 4 calificaciones de un alumno, calcular y desplegar el promedio acompañado de la leyenda \"APROBADO\" o \"REPROBADO\""
      ],
      "metadata": {
        "id": "CvsdcykU_ANS"
      }
    },
    {
      "cell_type": "code",
      "source": [
        "cal1=float(input(\"Ingrese la primera calificacion \"))\n",
        "cal2=float(input(\"Ingrese la segunda calificacion \"))\n",
        "cal3=float(input(\"Ingrese la tercera calificacion \"))\n",
        "cal4=float(input(\"Ingrese la cuarta calificacion \"))\n",
        "prom = (cal1+cal2+cal3+cal4)/4\n",
        "if prom < 60 :\n",
        "  print(f\"Tu promedio es de: {prom}, Reprobado \")\n",
        "if prom >= 60 :\n",
        "  print(f\"Tu promedio es de: {prom}, Aprobado \")"
      ],
      "metadata": {
        "colab": {
          "base_uri": "https://localhost:8080/"
        },
        "id": "dIezMy67_DxA",
        "outputId": "2c3942d0-d2c1-425a-c87a-e24cfdb1d656"
      },
      "execution_count": 5,
      "outputs": [
        {
          "output_type": "stream",
          "name": "stdout",
          "text": [
            "Ingrese la primera calificacion 80\n",
            "Ingrese la segunda calificacion 50\n",
            "Ingrese la tercera calificacion 100\n",
            "Ingrese la cuarta calificacion 70\n",
            "Tu promedio es de: 75.0, Aprobado \n"
          ]
        }
      ]
    },
    {
      "cell_type": "markdown",
      "source": [
        "3.- Programa en PythonAlgoritmo que a través de opciones (1.- HOMBRE 2.- MUJER ) preguntar al usuario cual es su sexo y desplegar la leyenda “HOMBRE ”, “MUJER”"
      ],
      "metadata": {
        "id": "tZiMZjDEAGJW"
      }
    },
    {
      "cell_type": "code",
      "source": [
        "sexo=int(input(\"Ingrese 1 si eres hombre o ingrese 2 si eres mujer \"))\n",
        "if sexo == 1 :\n",
        "  print(\"Hombre \")\n",
        "if sexo == 2 :\n",
        "  print(\"Mujer\")"
      ],
      "metadata": {
        "colab": {
          "base_uri": "https://localhost:8080/"
        },
        "id": "b8aoAPlPAY13",
        "outputId": "1ca22681-c748-4c8c-edca-077aa9bdba62"
      },
      "execution_count": 6,
      "outputs": [
        {
          "output_type": "stream",
          "name": "stdout",
          "text": [
            "Ingrese 1 si eres hombre o ingrese 2 si eres mujer 1\n",
            "Hombre \n"
          ]
        }
      ]
    },
    {
      "cell_type": "markdown",
      "source": [
        "4.- Programa en Python que lea un número entero, y desplegar si el número es “PAR” o “IMPAR”\n",
        "\n",
        "\n"
      ],
      "metadata": {
        "id": "JK_995qcAyS-"
      }
    },
    {
      "cell_type": "code",
      "source": [
        "num=int(input(\"Ingrese un numero ENTERO \"))\n",
        "if num%2 == 0 :\n",
        "  print(f\"El numero {num} es un numero par \")\n",
        "if num%2 !=0 :\n",
        "  print(f\"El numero {num} es un numero impar\")"
      ],
      "metadata": {
        "colab": {
          "base_uri": "https://localhost:8080/"
        },
        "id": "S47pROciA0lE",
        "outputId": "e93eed6a-8079-4994-c6e5-18b39d7d7412"
      },
      "execution_count": 9,
      "outputs": [
        {
          "output_type": "stream",
          "name": "stdout",
          "text": [
            "Ingrese un numero ENTERO 10\n",
            "El numero 10 es un numero par \n"
          ]
        }
      ]
    },
    {
      "cell_type": "markdown",
      "source": [
        "NOTA: EJERCICIOS (5,6,7 y 8) PARA SER RESUELTOS USANDO CONDICIÓN COMPUESTA"
      ],
      "metadata": {
        "id": "rU39dq5iBYfp"
      }
    },
    {
      "cell_type": "markdown",
      "source": [
        "5.- Programa en Python que lea 2 números enteros, usar una condición y analizar los dos números y desplegar cual de los números es el mayor."
      ],
      "metadata": {
        "id": "LEyv4NJjBjPp"
      }
    },
    {
      "cell_type": "code",
      "source": [
        "num1=float(input(\"Ingrese el primer numero \"))\n",
        "num2=float(input(\"Ingrese el segundo numero \"))\n",
        "if num1 > num2 :\n",
        "  print(f\"El numero mayor es: {num1}\")\n",
        "else :\n",
        "  print(f\"El numero mayor es: {num2}\")"
      ],
      "metadata": {
        "colab": {
          "base_uri": "https://localhost:8080/"
        },
        "id": "pyBkfg4hBl_l",
        "outputId": "db724703-e111-4467-cb59-c658283f5d2e"
      },
      "execution_count": 11,
      "outputs": [
        {
          "output_type": "stream",
          "name": "stdout",
          "text": [
            "Ingrese el primer numero 7\n",
            "Ingrese el segundo numero 9\n",
            "El numero mayor es: 9.0\n"
          ]
        }
      ]
    },
    {
      "cell_type": "markdown",
      "source": [
        "6.- Programa en Python que lea 4 calificaciones de un alumno, calcular y desplegar el promedio acompañado de la leyenda APROBADO o REPROBADO"
      ],
      "metadata": {
        "id": "lmwMFNjoCNyn"
      }
    },
    {
      "cell_type": "code",
      "source": [
        "cal1=float(input(\"Ingrese la primera calificacion \"))\n",
        "cal2=float(input(\"Ingrese la segunda calificacion \"))\n",
        "cal3=float(input(\"Ingrese la tercera calificacion \"))\n",
        "cal4=float(input(\"Ingrese la cuarta calificacion \"))\n",
        "prom = (cal1+cal2+cal3+cal4)/4\n",
        "if prom < 60 :\n",
        "  print(f\"Tu promedio es de: {prom}, Reprobado \")\n",
        "else :\n",
        "  print(f\"Tu promedio es de: {prom}, Aprobado \")"
      ],
      "metadata": {
        "colab": {
          "base_uri": "https://localhost:8080/"
        },
        "id": "jrpnliZGCOAw",
        "outputId": "500e4108-e49c-4f44-d87c-ee3c80580622"
      },
      "execution_count": 12,
      "outputs": [
        {
          "output_type": "stream",
          "name": "stdout",
          "text": [
            "Ingrese la primera calificacion 70\n",
            "Ingrese la segunda calificacion 80\n",
            "Ingrese la tercera calificacion 60\n",
            "Ingrese la cuarta calificacion 50\n",
            "Tu promedio es de: 65.0, Aprobado \n"
          ]
        }
      ]
    },
    {
      "cell_type": "markdown",
      "source": [
        "7.- Programa en Python que a través de opciones (1.- HOMBRE 2.- MUJER ) preguntar al usuario cual es su sexo y desplegar la leyenda “HOMBRE ”, “MUJER”"
      ],
      "metadata": {
        "id": "YkeovpswCZO1"
      }
    },
    {
      "cell_type": "code",
      "source": [
        "sexo=int(input(\"Ingrese 1 si eres hombre o ingrese 2 si eres mujer \"))\n",
        "if sexo == 1 :\n",
        "  print(\"Hombre \")\n",
        "else :\n",
        "  print(\"Mujer\")"
      ],
      "metadata": {
        "colab": {
          "base_uri": "https://localhost:8080/"
        },
        "id": "lucEpkuLCbey",
        "outputId": "1f6ed96c-1262-4375-90b2-98d5cfea3e7a"
      },
      "execution_count": 13,
      "outputs": [
        {
          "output_type": "stream",
          "name": "stdout",
          "text": [
            "Ingrese 1 si eres hombre o ingrese 2 si eres mujer 2\n",
            "Mujer\n"
          ]
        }
      ]
    },
    {
      "cell_type": "markdown",
      "source": [
        "8.- Programa en Python que lea un número entero, y desplegar si el número es “PAR” o “IMPAR” NOTA: EJERCICIOS PARA SER RESUELTOS USANDO EXCLUSIVAMENTE CONDICIONES COMPUESTO\n",
        "\n"
      ],
      "metadata": {
        "id": "oM6FiN44ChX3"
      }
    },
    {
      "cell_type": "code",
      "source": [
        "num=int(input(\"Ingrese un numero ENTERO \"))\n",
        "if num%2 == 0 :\n",
        "  print(f\"El numero {num} es un numero par \")\n",
        "else :\n",
        "  print(f\"El numero {num} es un numero impar\")"
      ],
      "metadata": {
        "colab": {
          "base_uri": "https://localhost:8080/"
        },
        "id": "bkulDyulCsYv",
        "outputId": "63170f21-5c3f-4256-e359-67bb1c13a528"
      },
      "execution_count": 14,
      "outputs": [
        {
          "output_type": "stream",
          "name": "stdout",
          "text": [
            "Ingrese un numero ENTERO 9\n",
            "El numero 9 es un numero impar\n"
          ]
        }
      ]
    }
  ]
}